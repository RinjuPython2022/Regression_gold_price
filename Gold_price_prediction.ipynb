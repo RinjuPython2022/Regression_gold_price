{
 "cells": [
  {
   "cell_type": "markdown",
   "id": "220dfcad-b74c-4ddf-9eea-54c8c933ba7f",
   "metadata": {},
   "source": [
    "# Predicting Gold Price"
   ]
  },
  {
   "cell_type": "markdown",
   "id": "af4ded7e-e732-4d43-9bd7-bd2edfe67994",
   "metadata": {},
   "source": [
    "### Import libraries"
   ]
  },
  {
   "cell_type": "code",
   "execution_count": 54,
   "id": "602d2a45-d8bf-45bf-8544-6c053a6ebf15",
   "metadata": {},
   "outputs": [
    {
     "name": "stdout",
     "output_type": "stream",
     "text": [
      "Packages imported\n"
     ]
    }
   ],
   "source": [
    "import pandas as pd\n",
    "import numpy as np\n",
    "from matplotlib import pyplot as plt\n",
    "%matplotlib inline\n",
    "import matplotlib \n",
    "\n",
    "import seaborn as sns\n",
    "from sklearn.preprocessing import StandardScaler\n",
    "matplotlib.rcParams[\"figure.figsize\"] = (20,10)\n",
    "\n",
    "from sklearn.model_selection import train_test_split\n",
    "from sklearn.model_selection import ShuffleSplit\n",
    "\n",
    "from sklearn.model_selection import KFold\n",
    "from sklearn.model_selection import cross_val_score\n",
    "from sklearn.model_selection import GridSearchCV\n",
    "\n",
    "import warnings\n",
    "warnings.filterwarnings('ignore')\n",
    "\n",
    "from sklearn.linear_model import LinearRegression\n",
    "from sklearn.linear_model import Lasso\n",
    "from sklearn.tree import DecisionTreeRegressor\n",
    "from sklearn.ensemble import RandomForestRegressor\n",
    "\n",
    "import pickle\n",
    "import json\n",
    "print(\"Packages imported\")\n"
   ]
  },
  {
   "cell_type": "markdown",
   "id": "c927a442-6b41-4634-88ea-9ddffc4274f1",
   "metadata": {},
   "source": [
    "### Data loading and processing"
   ]
  },
  {
   "cell_type": "code",
   "execution_count": 2,
   "id": "68039080-6d2b-4f34-b074-843e8aca1f3f",
   "metadata": {},
   "outputs": [
    {
     "data": {
      "text/html": [
       "<div>\n",
       "<style scoped>\n",
       "    .dataframe tbody tr th:only-of-type {\n",
       "        vertical-align: middle;\n",
       "    }\n",
       "\n",
       "    .dataframe tbody tr th {\n",
       "        vertical-align: top;\n",
       "    }\n",
       "\n",
       "    .dataframe thead th {\n",
       "        text-align: right;\n",
       "    }\n",
       "</style>\n",
       "<table border=\"1\" class=\"dataframe\">\n",
       "  <thead>\n",
       "    <tr style=\"text-align: right;\">\n",
       "      <th></th>\n",
       "      <th>Date</th>\n",
       "      <th>SPX</th>\n",
       "      <th>GLD</th>\n",
       "      <th>USO</th>\n",
       "      <th>SLV</th>\n",
       "      <th>EUR/USD</th>\n",
       "    </tr>\n",
       "  </thead>\n",
       "  <tbody>\n",
       "    <tr>\n",
       "      <th>0</th>\n",
       "      <td>1/2/2008</td>\n",
       "      <td>1447.160034</td>\n",
       "      <td>84.860001</td>\n",
       "      <td>78.470001</td>\n",
       "      <td>15.180</td>\n",
       "      <td>1.471692</td>\n",
       "    </tr>\n",
       "    <tr>\n",
       "      <th>1</th>\n",
       "      <td>1/3/2008</td>\n",
       "      <td>1447.160034</td>\n",
       "      <td>85.570000</td>\n",
       "      <td>78.370003</td>\n",
       "      <td>15.285</td>\n",
       "      <td>1.474491</td>\n",
       "    </tr>\n",
       "    <tr>\n",
       "      <th>2</th>\n",
       "      <td>1/4/2008</td>\n",
       "      <td>1411.630005</td>\n",
       "      <td>85.129997</td>\n",
       "      <td>77.309998</td>\n",
       "      <td>15.167</td>\n",
       "      <td>1.475492</td>\n",
       "    </tr>\n",
       "    <tr>\n",
       "      <th>3</th>\n",
       "      <td>1/7/2008</td>\n",
       "      <td>1416.180054</td>\n",
       "      <td>84.769997</td>\n",
       "      <td>75.500000</td>\n",
       "      <td>15.053</td>\n",
       "      <td>1.468299</td>\n",
       "    </tr>\n",
       "    <tr>\n",
       "      <th>4</th>\n",
       "      <td>1/8/2008</td>\n",
       "      <td>1390.189941</td>\n",
       "      <td>86.779999</td>\n",
       "      <td>76.059998</td>\n",
       "      <td>15.590</td>\n",
       "      <td>1.557099</td>\n",
       "    </tr>\n",
       "  </tbody>\n",
       "</table>\n",
       "</div>"
      ],
      "text/plain": [
       "       Date          SPX        GLD        USO     SLV   EUR/USD\n",
       "0  1/2/2008  1447.160034  84.860001  78.470001  15.180  1.471692\n",
       "1  1/3/2008  1447.160034  85.570000  78.370003  15.285  1.474491\n",
       "2  1/4/2008  1411.630005  85.129997  77.309998  15.167  1.475492\n",
       "3  1/7/2008  1416.180054  84.769997  75.500000  15.053  1.468299\n",
       "4  1/8/2008  1390.189941  86.779999  76.059998  15.590  1.557099"
      ]
     },
     "execution_count": 2,
     "metadata": {},
     "output_type": "execute_result"
    }
   ],
   "source": [
    "# loadind data and reading first 5 rows from dataset\n",
    "df=pd.read_csv(\"gld_price_data.csv\")\n",
    "df.head()"
   ]
  },
  {
   "cell_type": "code",
   "execution_count": 3,
   "id": "c01717e0-a268-4ebb-9678-7b5a20b1bbd9",
   "metadata": {},
   "outputs": [
    {
     "data": {
      "text/html": [
       "<div>\n",
       "<style scoped>\n",
       "    .dataframe tbody tr th:only-of-type {\n",
       "        vertical-align: middle;\n",
       "    }\n",
       "\n",
       "    .dataframe tbody tr th {\n",
       "        vertical-align: top;\n",
       "    }\n",
       "\n",
       "    .dataframe thead th {\n",
       "        text-align: right;\n",
       "    }\n",
       "</style>\n",
       "<table border=\"1\" class=\"dataframe\">\n",
       "  <thead>\n",
       "    <tr style=\"text-align: right;\">\n",
       "      <th></th>\n",
       "      <th>Date</th>\n",
       "      <th>SPX</th>\n",
       "      <th>GLD</th>\n",
       "      <th>USO</th>\n",
       "      <th>SLV</th>\n",
       "      <th>EUR/USD</th>\n",
       "    </tr>\n",
       "  </thead>\n",
       "  <tbody>\n",
       "    <tr>\n",
       "      <th>2285</th>\n",
       "      <td>5/8/2018</td>\n",
       "      <td>2671.919922</td>\n",
       "      <td>124.589996</td>\n",
       "      <td>14.0600</td>\n",
       "      <td>15.5100</td>\n",
       "      <td>1.186789</td>\n",
       "    </tr>\n",
       "    <tr>\n",
       "      <th>2286</th>\n",
       "      <td>5/9/2018</td>\n",
       "      <td>2697.790039</td>\n",
       "      <td>124.330002</td>\n",
       "      <td>14.3700</td>\n",
       "      <td>15.5300</td>\n",
       "      <td>1.184722</td>\n",
       "    </tr>\n",
       "    <tr>\n",
       "      <th>2287</th>\n",
       "      <td>5/10/2018</td>\n",
       "      <td>2723.070068</td>\n",
       "      <td>125.180000</td>\n",
       "      <td>14.4100</td>\n",
       "      <td>15.7400</td>\n",
       "      <td>1.191753</td>\n",
       "    </tr>\n",
       "    <tr>\n",
       "      <th>2288</th>\n",
       "      <td>5/14/2018</td>\n",
       "      <td>2730.129883</td>\n",
       "      <td>124.489998</td>\n",
       "      <td>14.3800</td>\n",
       "      <td>15.5600</td>\n",
       "      <td>1.193118</td>\n",
       "    </tr>\n",
       "    <tr>\n",
       "      <th>2289</th>\n",
       "      <td>5/16/2018</td>\n",
       "      <td>2725.780029</td>\n",
       "      <td>122.543800</td>\n",
       "      <td>14.4058</td>\n",
       "      <td>15.4542</td>\n",
       "      <td>1.182033</td>\n",
       "    </tr>\n",
       "  </tbody>\n",
       "</table>\n",
       "</div>"
      ],
      "text/plain": [
       "           Date          SPX         GLD      USO      SLV   EUR/USD\n",
       "2285   5/8/2018  2671.919922  124.589996  14.0600  15.5100  1.186789\n",
       "2286   5/9/2018  2697.790039  124.330002  14.3700  15.5300  1.184722\n",
       "2287  5/10/2018  2723.070068  125.180000  14.4100  15.7400  1.191753\n",
       "2288  5/14/2018  2730.129883  124.489998  14.3800  15.5600  1.193118\n",
       "2289  5/16/2018  2725.780029  122.543800  14.4058  15.4542  1.182033"
      ]
     },
     "execution_count": 3,
     "metadata": {},
     "output_type": "execute_result"
    }
   ],
   "source": [
    "# reading last 5 rows from dataset\n",
    "\n",
    "df.tail()"
   ]
  },
  {
   "cell_type": "code",
   "execution_count": 5,
   "id": "239fbdc7-33ae-442a-98fb-781574d4c1f2",
   "metadata": {},
   "outputs": [
    {
     "data": {
      "text/plain": [
       "(2290, 6)"
      ]
     },
     "execution_count": 5,
     "metadata": {},
     "output_type": "execute_result"
    }
   ],
   "source": [
    "# getting number of columns and rows\n",
    "df.shape"
   ]
  },
  {
   "cell_type": "code",
   "execution_count": 7,
   "id": "18ade0ae-b1eb-473d-bfeb-d8167adc83ff",
   "metadata": {},
   "outputs": [
    {
     "name": "stdout",
     "output_type": "stream",
     "text": [
      "<class 'pandas.core.frame.DataFrame'>\n",
      "RangeIndex: 2290 entries, 0 to 2289\n",
      "Data columns (total 6 columns):\n",
      " #   Column   Non-Null Count  Dtype  \n",
      "---  ------   --------------  -----  \n",
      " 0   Date     2290 non-null   object \n",
      " 1   SPX      2290 non-null   float64\n",
      " 2   GLD      2290 non-null   float64\n",
      " 3   USO      2290 non-null   float64\n",
      " 4   SLV      2290 non-null   float64\n",
      " 5   EUR/USD  2290 non-null   float64\n",
      "dtypes: float64(5), object(1)\n",
      "memory usage: 107.5+ KB\n"
     ]
    }
   ],
   "source": [
    "# Getting basic information of dataset\n",
    "df.info()"
   ]
  },
  {
   "cell_type": "code",
   "execution_count": 9,
   "id": "c4a62038-e9e4-40e8-b4f3-662c8a9553e3",
   "metadata": {},
   "outputs": [
    {
     "data": {
      "text/plain": [
       "Date       0\n",
       "SPX        0\n",
       "GLD        0\n",
       "USO        0\n",
       "SLV        0\n",
       "EUR/USD    0\n",
       "dtype: int64"
      ]
     },
     "execution_count": 9,
     "metadata": {},
     "output_type": "execute_result"
    }
   ],
   "source": [
    "# checking missing values\n",
    "df.isnull().sum()"
   ]
  },
  {
   "cell_type": "markdown",
   "id": "3c989c43-df91-4329-b5e3-70abdb7ce056",
   "metadata": {},
   "source": [
    "##### This dataset does not have missing values"
   ]
  },
  {
   "cell_type": "code",
   "execution_count": 10,
   "id": "b1132177-99cf-4af5-a017-1f42a24a81a5",
   "metadata": {},
   "outputs": [
    {
     "data": {
      "text/plain": [
       "Index(['Date', 'SPX', 'GLD', 'USO', 'SLV', 'EUR/USD'], dtype='object')"
      ]
     },
     "execution_count": 10,
     "metadata": {},
     "output_type": "execute_result"
    }
   ],
   "source": [
    "# column names of dataset\n",
    "df.columns"
   ]
  },
  {
   "cell_type": "code",
   "execution_count": 15,
   "id": "d5aa70e1-c623-4c5d-b912-3776e31d5c5d",
   "metadata": {},
   "outputs": [
    {
     "data": {
      "text/plain": [
       "[]"
      ]
     },
     "execution_count": 15,
     "metadata": {},
     "output_type": "execute_result"
    }
   ],
   "source": [
    "# find which columns have null values \n",
    "[features for features in df.columns if df[features ].isnull().sum()>0]"
   ]
  },
  {
   "cell_type": "code",
   "execution_count": 11,
   "id": "0e6c2802-ae86-43f5-a688-48ff5bd1852a",
   "metadata": {},
   "outputs": [
    {
     "data": {
      "text/html": [
       "<div>\n",
       "<style scoped>\n",
       "    .dataframe tbody tr th:only-of-type {\n",
       "        vertical-align: middle;\n",
       "    }\n",
       "\n",
       "    .dataframe tbody tr th {\n",
       "        vertical-align: top;\n",
       "    }\n",
       "\n",
       "    .dataframe thead th {\n",
       "        text-align: right;\n",
       "    }\n",
       "</style>\n",
       "<table border=\"1\" class=\"dataframe\">\n",
       "  <thead>\n",
       "    <tr style=\"text-align: right;\">\n",
       "      <th></th>\n",
       "      <th>SPX</th>\n",
       "      <th>GLD</th>\n",
       "      <th>USO</th>\n",
       "      <th>SLV</th>\n",
       "      <th>EUR/USD</th>\n",
       "    </tr>\n",
       "  </thead>\n",
       "  <tbody>\n",
       "    <tr>\n",
       "      <th>count</th>\n",
       "      <td>2290.000000</td>\n",
       "      <td>2290.000000</td>\n",
       "      <td>2290.000000</td>\n",
       "      <td>2290.000000</td>\n",
       "      <td>2290.000000</td>\n",
       "    </tr>\n",
       "    <tr>\n",
       "      <th>mean</th>\n",
       "      <td>1654.315776</td>\n",
       "      <td>122.732875</td>\n",
       "      <td>31.842221</td>\n",
       "      <td>20.084997</td>\n",
       "      <td>1.283653</td>\n",
       "    </tr>\n",
       "    <tr>\n",
       "      <th>std</th>\n",
       "      <td>519.111540</td>\n",
       "      <td>23.283346</td>\n",
       "      <td>19.523517</td>\n",
       "      <td>7.092566</td>\n",
       "      <td>0.131547</td>\n",
       "    </tr>\n",
       "    <tr>\n",
       "      <th>min</th>\n",
       "      <td>676.530029</td>\n",
       "      <td>70.000000</td>\n",
       "      <td>7.960000</td>\n",
       "      <td>8.850000</td>\n",
       "      <td>1.039047</td>\n",
       "    </tr>\n",
       "    <tr>\n",
       "      <th>25%</th>\n",
       "      <td>1239.874969</td>\n",
       "      <td>109.725000</td>\n",
       "      <td>14.380000</td>\n",
       "      <td>15.570000</td>\n",
       "      <td>1.171313</td>\n",
       "    </tr>\n",
       "    <tr>\n",
       "      <th>50%</th>\n",
       "      <td>1551.434998</td>\n",
       "      <td>120.580002</td>\n",
       "      <td>33.869999</td>\n",
       "      <td>17.268500</td>\n",
       "      <td>1.303297</td>\n",
       "    </tr>\n",
       "    <tr>\n",
       "      <th>75%</th>\n",
       "      <td>2073.010070</td>\n",
       "      <td>132.840004</td>\n",
       "      <td>37.827501</td>\n",
       "      <td>22.882500</td>\n",
       "      <td>1.369971</td>\n",
       "    </tr>\n",
       "    <tr>\n",
       "      <th>max</th>\n",
       "      <td>2872.870117</td>\n",
       "      <td>184.589996</td>\n",
       "      <td>117.480003</td>\n",
       "      <td>47.259998</td>\n",
       "      <td>1.598798</td>\n",
       "    </tr>\n",
       "  </tbody>\n",
       "</table>\n",
       "</div>"
      ],
      "text/plain": [
       "               SPX          GLD          USO          SLV      EUR/USD\n",
       "count  2290.000000  2290.000000  2290.000000  2290.000000  2290.000000\n",
       "mean   1654.315776   122.732875    31.842221    20.084997     1.283653\n",
       "std     519.111540    23.283346    19.523517     7.092566     0.131547\n",
       "min     676.530029    70.000000     7.960000     8.850000     1.039047\n",
       "25%    1239.874969   109.725000    14.380000    15.570000     1.171313\n",
       "50%    1551.434998   120.580002    33.869999    17.268500     1.303297\n",
       "75%    2073.010070   132.840004    37.827501    22.882500     1.369971\n",
       "max    2872.870117   184.589996   117.480003    47.259998     1.598798"
      ]
     },
     "execution_count": 11,
     "metadata": {},
     "output_type": "execute_result"
    }
   ],
   "source": [
    "# getting statistical measures of data\n",
    "df.describe()"
   ]
  },
  {
   "cell_type": "code",
   "execution_count": 16,
   "id": "389a9d7a-0231-4eb5-89ec-9a4c2bec4f4d",
   "metadata": {},
   "outputs": [
    {
     "data": {
      "text/html": [
       "<div>\n",
       "<style scoped>\n",
       "    .dataframe tbody tr th:only-of-type {\n",
       "        vertical-align: middle;\n",
       "    }\n",
       "\n",
       "    .dataframe tbody tr th {\n",
       "        vertical-align: top;\n",
       "    }\n",
       "\n",
       "    .dataframe thead th {\n",
       "        text-align: right;\n",
       "    }\n",
       "</style>\n",
       "<table border=\"1\" class=\"dataframe\">\n",
       "  <thead>\n",
       "    <tr style=\"text-align: right;\">\n",
       "      <th></th>\n",
       "      <th>SPX</th>\n",
       "      <th>GLD</th>\n",
       "      <th>USO</th>\n",
       "      <th>SLV</th>\n",
       "      <th>EUR/USD</th>\n",
       "    </tr>\n",
       "  </thead>\n",
       "  <tbody>\n",
       "    <tr>\n",
       "      <th>SPX</th>\n",
       "      <td>1.000000</td>\n",
       "      <td>0.049345</td>\n",
       "      <td>-0.591573</td>\n",
       "      <td>-0.274055</td>\n",
       "      <td>-0.672017</td>\n",
       "    </tr>\n",
       "    <tr>\n",
       "      <th>GLD</th>\n",
       "      <td>0.049345</td>\n",
       "      <td>1.000000</td>\n",
       "      <td>-0.186360</td>\n",
       "      <td>0.866632</td>\n",
       "      <td>-0.024375</td>\n",
       "    </tr>\n",
       "    <tr>\n",
       "      <th>USO</th>\n",
       "      <td>-0.591573</td>\n",
       "      <td>-0.186360</td>\n",
       "      <td>1.000000</td>\n",
       "      <td>0.167547</td>\n",
       "      <td>0.829317</td>\n",
       "    </tr>\n",
       "    <tr>\n",
       "      <th>SLV</th>\n",
       "      <td>-0.274055</td>\n",
       "      <td>0.866632</td>\n",
       "      <td>0.167547</td>\n",
       "      <td>1.000000</td>\n",
       "      <td>0.321631</td>\n",
       "    </tr>\n",
       "    <tr>\n",
       "      <th>EUR/USD</th>\n",
       "      <td>-0.672017</td>\n",
       "      <td>-0.024375</td>\n",
       "      <td>0.829317</td>\n",
       "      <td>0.321631</td>\n",
       "      <td>1.000000</td>\n",
       "    </tr>\n",
       "  </tbody>\n",
       "</table>\n",
       "</div>"
      ],
      "text/plain": [
       "              SPX       GLD       USO       SLV   EUR/USD\n",
       "SPX      1.000000  0.049345 -0.591573 -0.274055 -0.672017\n",
       "GLD      0.049345  1.000000 -0.186360  0.866632 -0.024375\n",
       "USO     -0.591573 -0.186360  1.000000  0.167547  0.829317\n",
       "SLV     -0.274055  0.866632  0.167547  1.000000  0.321631\n",
       "EUR/USD -0.672017 -0.024375  0.829317  0.321631  1.000000"
      ]
     },
     "execution_count": 16,
     "metadata": {},
     "output_type": "execute_result"
    }
   ],
   "source": [
    "#Checking correlation of features\n",
    "correlation=df.corr(numeric_only=True)\n",
    "correlation"
   ]
  },
  {
   "cell_type": "code",
   "execution_count": 22,
   "id": "3a67cea4-a916-45bc-8c89-23149ff9a90d",
   "metadata": {},
   "outputs": [
    {
     "data": {
      "text/plain": [
       "<Axes: >"
      ]
     },
     "execution_count": 22,
     "metadata": {},
     "output_type": "execute_result"
    },
    {
     "data": {
      "image/png": "[encoded data removed]",
      "text/plain": [
       "<Figure size 700x700 with 2 Axes>"
      ]
     },
     "metadata": {},
     "output_type": "display_data"
    }
   ],
   "source": [
    "#plotting heatmap to understand correlation clearly\n",
    "matplotlib.rcParams[\"figure.figsize\"] = (7,7)\n",
    "sns.heatmap(correlation,cbar=True,square=True,fmt='.1f',annot=True)"
   ]
  },
  {
   "cell_type": "markdown",
   "id": "08b17180-2bac-4e02-a402-d5407f7cf7e2",
   "metadata": {},
   "source": [
    "#### Silver price is positively correlated with Gold price and USO is negatively correlated with gold price"
   ]
  },
  {
   "cell_type": "code",
   "execution_count": 27,
   "id": "a11d687c-6abb-4282-89b4-704d748119e6",
   "metadata": {},
   "outputs": [
    {
     "data": {
      "text/plain": [
       "SPX        0.049345\n",
       "GLD        1.000000\n",
       "USO       -0.186360\n",
       "SLV        0.866632\n",
       "EUR/USD   -0.024375\n",
       "Name: GLD, dtype: float64"
      ]
     },
     "execution_count": 27,
     "metadata": {},
     "output_type": "execute_result"
    }
   ],
   "source": [
    "# Correlation values of Gold\n",
    "correlation['GLD']"
   ]
  },
  {
   "cell_type": "code",
   "execution_count": 31,
   "id": "70d8f91c-1169-4d64-a8bd-667c52655dd9",
   "metadata": {},
   "outputs": [
    {
     "data": {
      "text/plain": [
       "<Axes: xlabel='GLD', ylabel='Density'>"
      ]
     },
     "execution_count": 31,
     "metadata": {},
     "output_type": "execute_result"
    },
    {
     "data": {
      "image/png": "[encoded data removed]",
      "text/plain": [
       "<Figure size 700x700 with 1 Axes>"
      ]
     },
     "metadata": {},
     "output_type": "display_data"
    }
   ],
   "source": [
    "# Distribution of gold prices\n",
    "sns.distplot(df['GLD'],color='green')"
   ]
  },
  {
   "cell_type": "markdown",
   "id": "226ee7aa-d408-4b60-84d2-2787c0e95b6f",
   "metadata": {},
   "source": [
    "#### Minimum price is 70 and maximum price is 184 and mean value is 120.Density of 120 is more.So chances of getting gold price as 120 is high"
   ]
  },
  {
   "cell_type": "markdown",
   "id": "6986ddc8-e79c-4952-a089-c5f0dfc12eb0",
   "metadata": {},
   "source": [
    "### Model Building"
   ]
  },
  {
   "cell_type": "code",
   "execution_count": 37,
   "id": "4f38356b-babd-40e9-a976-5c007d583c08",
   "metadata": {},
   "outputs": [
    {
     "data": {
      "text/plain": [
       "(2290, 4)"
      ]
     },
     "execution_count": 37,
     "metadata": {},
     "output_type": "execute_result"
    }
   ],
   "source": [
    "# dropping date and gold columns to make X \n",
    "X=df.drop(['Date','GLD'],axis=1)\n",
    "y=df['GLD']\n",
    "X.shape"
   ]
  },
  {
   "cell_type": "code",
   "execution_count": 36,
   "id": "8da2e656-b3e8-45f4-a99b-a30832ba55c2",
   "metadata": {},
   "outputs": [
    {
     "data": {
      "text/plain": [
       "(2290,)"
      ]
     },
     "execution_count": 36,
     "metadata": {},
     "output_type": "execute_result"
    }
   ],
   "source": [
    "y.shape"
   ]
  },
  {
   "cell_type": "markdown",
   "id": "0534b4f4-de79-4c59-825d-1626a92e3fa3",
   "metadata": {},
   "source": [
    "#### Split the data into training and testing data using the train_test_split function"
   ]
  },
  {
   "cell_type": "code",
   "execution_count": 38,
   "id": "befb77d4-0603-463e-aad1-ae9b19deb5aa",
   "metadata": {},
   "outputs": [],
   "source": [
    "X_train, X_test, y_train, y_test = train_test_split(X,y,test_size=0.2,random_state=2)"
   ]
  },
  {
   "cell_type": "code",
   "execution_count": 68,
   "id": "6a21b9b7-ed49-4075-80a1-ea42796efebe",
   "metadata": {},
   "outputs": [
    {
     "data": {
      "text/html": [
       "<div>\n",
       "<style scoped>\n",
       "    .dataframe tbody tr th:only-of-type {\n",
       "        vertical-align: middle;\n",
       "    }\n",
       "\n",
       "    .dataframe tbody tr th {\n",
       "        vertical-align: top;\n",
       "    }\n",
       "\n",
       "    .dataframe thead th {\n",
       "        text-align: right;\n",
       "    }\n",
       "</style>\n",
       "<table border=\"1\" class=\"dataframe\">\n",
       "  <thead>\n",
       "    <tr style=\"text-align: right;\">\n",
       "      <th></th>\n",
       "      <th>SPX</th>\n",
       "      <th>USO</th>\n",
       "      <th>SLV</th>\n",
       "      <th>EUR/USD</th>\n",
       "    </tr>\n",
       "  </thead>\n",
       "  <tbody>\n",
       "    <tr>\n",
       "      <th>476</th>\n",
       "      <td>1138.500000</td>\n",
       "      <td>39.790001</td>\n",
       "      <td>16.889999</td>\n",
       "      <td>1.361693</td>\n",
       "    </tr>\n",
       "    <tr>\n",
       "      <th>1958</th>\n",
       "      <td>2202.939941</td>\n",
       "      <td>10.630000</td>\n",
       "      <td>15.800000</td>\n",
       "      <td>1.063886</td>\n",
       "    </tr>\n",
       "    <tr>\n",
       "      <th>248</th>\n",
       "      <td>700.820007</td>\n",
       "      <td>24.480000</td>\n",
       "      <td>12.770000</td>\n",
       "      <td>1.256408</td>\n",
       "    </tr>\n",
       "    <tr>\n",
       "      <th>2231</th>\n",
       "      <td>2656.000000</td>\n",
       "      <td>11.890000</td>\n",
       "      <td>15.570000</td>\n",
       "      <td>1.225280</td>\n",
       "    </tr>\n",
       "    <tr>\n",
       "      <th>1325</th>\n",
       "      <td>1838.880005</td>\n",
       "      <td>33.040001</td>\n",
       "      <td>19.420000</td>\n",
       "      <td>1.366998</td>\n",
       "    </tr>\n",
       "    <tr>\n",
       "      <th>...</th>\n",
       "      <td>...</td>\n",
       "      <td>...</td>\n",
       "      <td>...</td>\n",
       "      <td>...</td>\n",
       "    </tr>\n",
       "    <tr>\n",
       "      <th>1071</th>\n",
       "      <td>1409.150024</td>\n",
       "      <td>32.320000</td>\n",
       "      <td>32.980000</td>\n",
       "      <td>1.287515</td>\n",
       "    </tr>\n",
       "    <tr>\n",
       "      <th>433</th>\n",
       "      <td>1132.989990</td>\n",
       "      <td>40.270000</td>\n",
       "      <td>17.230000</td>\n",
       "      <td>1.442398</td>\n",
       "    </tr>\n",
       "    <tr>\n",
       "      <th>674</th>\n",
       "      <td>1286.119995</td>\n",
       "      <td>38.610001</td>\n",
       "      <td>27.389999</td>\n",
       "      <td>1.357276</td>\n",
       "    </tr>\n",
       "    <tr>\n",
       "      <th>1099</th>\n",
       "      <td>1461.890015</td>\n",
       "      <td>33.919998</td>\n",
       "      <td>29.180000</td>\n",
       "      <td>1.306745</td>\n",
       "    </tr>\n",
       "    <tr>\n",
       "      <th>1608</th>\n",
       "      <td>2092.429932</td>\n",
       "      <td>18.500000</td>\n",
       "      <td>15.600000</td>\n",
       "      <td>1.057295</td>\n",
       "    </tr>\n",
       "  </tbody>\n",
       "</table>\n",
       "<p>1832 rows × 4 columns</p>\n",
       "</div>"
      ],
      "text/plain": [
       "              SPX        USO        SLV   EUR/USD\n",
       "476   1138.500000  39.790001  16.889999  1.361693\n",
       "1958  2202.939941  10.630000  15.800000  1.063886\n",
       "248    700.820007  24.480000  12.770000  1.256408\n",
       "2231  2656.000000  11.890000  15.570000  1.225280\n",
       "1325  1838.880005  33.040001  19.420000  1.366998\n",
       "...           ...        ...        ...       ...\n",
       "1071  1409.150024  32.320000  32.980000  1.287515\n",
       "433   1132.989990  40.270000  17.230000  1.442398\n",
       "674   1286.119995  38.610001  27.389999  1.357276\n",
       "1099  1461.890015  33.919998  29.180000  1.306745\n",
       "1608  2092.429932  18.500000  15.600000  1.057295\n",
       "\n",
       "[1832 rows x 4 columns]"
      ]
     },
     "execution_count": 68,
     "metadata": {},
     "output_type": "execute_result"
    }
   ],
   "source": [
    "X_train"
   ]
  },
  {
   "cell_type": "code",
   "execution_count": 71,
   "id": "8acaf057-30a5-4043-a45a-92c3a7ce15c8",
   "metadata": {},
   "outputs": [
    {
     "data": {
      "text/html": [
       "<div>\n",
       "<style scoped>\n",
       "    .dataframe tbody tr th:only-of-type {\n",
       "        vertical-align: middle;\n",
       "    }\n",
       "\n",
       "    .dataframe tbody tr th {\n",
       "        vertical-align: top;\n",
       "    }\n",
       "\n",
       "    .dataframe thead th {\n",
       "        text-align: right;\n",
       "    }\n",
       "</style>\n",
       "<table border=\"1\" class=\"dataframe\">\n",
       "  <thead>\n",
       "    <tr style=\"text-align: right;\">\n",
       "      <th></th>\n",
       "      <th>SPX</th>\n",
       "      <th>USO</th>\n",
       "      <th>SLV</th>\n",
       "      <th>EUR/USD</th>\n",
       "    </tr>\n",
       "  </thead>\n",
       "  <tbody>\n",
       "    <tr>\n",
       "      <th>903</th>\n",
       "      <td>1351.949951</td>\n",
       "      <td>38.330002</td>\n",
       "      <td>32.900002</td>\n",
       "      <td>1.324854</td>\n",
       "    </tr>\n",
       "    <tr>\n",
       "      <th>129</th>\n",
       "      <td>1271.510010</td>\n",
       "      <td>93.900002</td>\n",
       "      <td>13.450000</td>\n",
       "      <td>1.472581</td>\n",
       "    </tr>\n",
       "    <tr>\n",
       "      <th>1787</th>\n",
       "      <td>1880.050049</td>\n",
       "      <td>8.910000</td>\n",
       "      <td>14.340000</td>\n",
       "      <td>1.119996</td>\n",
       "    </tr>\n",
       "    <tr>\n",
       "      <th>1913</th>\n",
       "      <td>2181.300049</td>\n",
       "      <td>10.960000</td>\n",
       "      <td>18.620001</td>\n",
       "      <td>1.127142</td>\n",
       "    </tr>\n",
       "    <tr>\n",
       "      <th>2048</th>\n",
       "      <td>2352.949951</td>\n",
       "      <td>10.680000</td>\n",
       "      <td>17.320000</td>\n",
       "      <td>1.067247</td>\n",
       "    </tr>\n",
       "    <tr>\n",
       "      <th>996</th>\n",
       "      <td>1353.640015</td>\n",
       "      <td>33.119999</td>\n",
       "      <td>26.490000</td>\n",
       "      <td>1.226843</td>\n",
       "    </tr>\n",
       "    <tr>\n",
       "      <th>769</th>\n",
       "      <td>1339.219971</td>\n",
       "      <td>37.889999</td>\n",
       "      <td>35.099998</td>\n",
       "      <td>1.433158</td>\n",
       "    </tr>\n",
       "    <tr>\n",
       "      <th>2134</th>\n",
       "      <td>2488.110107</td>\n",
       "      <td>9.820000</td>\n",
       "      <td>16.770000</td>\n",
       "      <td>1.195943</td>\n",
       "    </tr>\n",
       "    <tr>\n",
       "      <th>1485</th>\n",
       "      <td>1968.890015</td>\n",
       "      <td>33.000000</td>\n",
       "      <td>16.680000</td>\n",
       "      <td>1.274307</td>\n",
       "    </tr>\n",
       "    <tr>\n",
       "      <th>1441</th>\n",
       "      <td>1983.530029</td>\n",
       "      <td>37.950001</td>\n",
       "      <td>20.100000</td>\n",
       "      <td>1.346801</td>\n",
       "    </tr>\n",
       "    <tr>\n",
       "      <th>1516</th>\n",
       "      <td>2067.030029</td>\n",
       "      <td>28.030001</td>\n",
       "      <td>15.980000</td>\n",
       "      <td>1.243317</td>\n",
       "    </tr>\n",
       "    <tr>\n",
       "      <th>787</th>\n",
       "      <td>1119.459961</td>\n",
       "      <td>31.510000</td>\n",
       "      <td>37.970001</td>\n",
       "      <td>1.417073</td>\n",
       "    </tr>\n",
       "    <tr>\n",
       "      <th>1171</th>\n",
       "      <td>1585.160034</td>\n",
       "      <td>33.250000</td>\n",
       "      <td>23.490000</td>\n",
       "      <td>1.300728</td>\n",
       "    </tr>\n",
       "    <tr>\n",
       "      <th>897</th>\n",
       "      <td>1324.089966</td>\n",
       "      <td>37.380001</td>\n",
       "      <td>32.770000</td>\n",
       "      <td>1.307702</td>\n",
       "    </tr>\n",
       "    <tr>\n",
       "      <th>1602</th>\n",
       "      <td>2059.689941</td>\n",
       "      <td>17.580000</td>\n",
       "      <td>16.230000</td>\n",
       "      <td>1.076994</td>\n",
       "    </tr>\n",
       "    <tr>\n",
       "      <th>2062</th>\n",
       "      <td>2388.330078</td>\n",
       "      <td>10.150000</td>\n",
       "      <td>15.990000</td>\n",
       "      <td>1.090893</td>\n",
       "    </tr>\n",
       "    <tr>\n",
       "      <th>684</th>\n",
       "      <td>1332.319946</td>\n",
       "      <td>35.880001</td>\n",
       "      <td>29.959999</td>\n",
       "      <td>1.351004</td>\n",
       "    </tr>\n",
       "    <tr>\n",
       "      <th>1031</th>\n",
       "      <td>1461.189941</td>\n",
       "      <td>35.750000</td>\n",
       "      <td>32.990002</td>\n",
       "      <td>1.311011</td>\n",
       "    </tr>\n",
       "    <tr>\n",
       "      <th>942</th>\n",
       "      <td>1382.199951</td>\n",
       "      <td>38.970001</td>\n",
       "      <td>30.590000</td>\n",
       "      <td>1.311131</td>\n",
       "    </tr>\n",
       "    <tr>\n",
       "      <th>840</th>\n",
       "      <td>1275.920044</td>\n",
       "      <td>37.430000</td>\n",
       "      <td>34.000000</td>\n",
       "      <td>1.376008</td>\n",
       "    </tr>\n",
       "    <tr>\n",
       "      <th>1153</th>\n",
       "      <td>1563.770020</td>\n",
       "      <td>34.450001</td>\n",
       "      <td>27.750000</td>\n",
       "      <td>1.285843</td>\n",
       "    </tr>\n",
       "    <tr>\n",
       "      <th>1223</th>\n",
       "      <td>1685.959961</td>\n",
       "      <td>36.669998</td>\n",
       "      <td>19.030001</td>\n",
       "      <td>1.326489</td>\n",
       "    </tr>\n",
       "    <tr>\n",
       "      <th>794</th>\n",
       "      <td>1140.650024</td>\n",
       "      <td>31.719999</td>\n",
       "      <td>39.660000</td>\n",
       "      <td>1.432439</td>\n",
       "    </tr>\n",
       "    <tr>\n",
       "      <th>781</th>\n",
       "      <td>1304.890015</td>\n",
       "      <td>37.970001</td>\n",
       "      <td>39.169998</td>\n",
       "      <td>1.437298</td>\n",
       "    </tr>\n",
       "    <tr>\n",
       "      <th>2207</th>\n",
       "      <td>2747.709961</td>\n",
       "      <td>12.380000</td>\n",
       "      <td>16.150000</td>\n",
       "      <td>1.203746</td>\n",
       "    </tr>\n",
       "    <tr>\n",
       "      <th>355</th>\n",
       "      <td>1020.619995</td>\n",
       "      <td>36.049999</td>\n",
       "      <td>14.620000</td>\n",
       "      <td>1.421202</td>\n",
       "    </tr>\n",
       "    <tr>\n",
       "      <th>140</th>\n",
       "      <td>1213.599976</td>\n",
       "      <td>74.989998</td>\n",
       "      <td>10.400000</td>\n",
       "      <td>1.432932</td>\n",
       "    </tr>\n",
       "    <tr>\n",
       "      <th>1306</th>\n",
       "      <td>1786.540039</td>\n",
       "      <td>34.939999</td>\n",
       "      <td>19.219999</td>\n",
       "      <td>1.373928</td>\n",
       "    </tr>\n",
       "    <tr>\n",
       "      <th>1489</th>\n",
       "      <td>1862.489990</td>\n",
       "      <td>30.670000</td>\n",
       "      <td>16.709999</td>\n",
       "      <td>1.282166</td>\n",
       "    </tr>\n",
       "    <tr>\n",
       "      <th>1069</th>\n",
       "      <td>1387.810059</td>\n",
       "      <td>31.950001</td>\n",
       "      <td>32.110001</td>\n",
       "      <td>1.276944</td>\n",
       "    </tr>\n",
       "  </tbody>\n",
       "</table>\n",
       "</div>"
      ],
      "text/plain": [
       "              SPX        USO        SLV   EUR/USD\n",
       "903   1351.949951  38.330002  32.900002  1.324854\n",
       "129   1271.510010  93.900002  13.450000  1.472581\n",
       "1787  1880.050049   8.910000  14.340000  1.119996\n",
       "1913  2181.300049  10.960000  18.620001  1.127142\n",
       "2048  2352.949951  10.680000  17.320000  1.067247\n",
       "996   1353.640015  33.119999  26.490000  1.226843\n",
       "769   1339.219971  37.889999  35.099998  1.433158\n",
       "2134  2488.110107   9.820000  16.770000  1.195943\n",
       "1485  1968.890015  33.000000  16.680000  1.274307\n",
       "1441  1983.530029  37.950001  20.100000  1.346801\n",
       "1516  2067.030029  28.030001  15.980000  1.243317\n",
       "787   1119.459961  31.510000  37.970001  1.417073\n",
       "1171  1585.160034  33.250000  23.490000  1.300728\n",
       "897   1324.089966  37.380001  32.770000  1.307702\n",
       "1602  2059.689941  17.580000  16.230000  1.076994\n",
       "2062  2388.330078  10.150000  15.990000  1.090893\n",
       "684   1332.319946  35.880001  29.959999  1.351004\n",
       "1031  1461.189941  35.750000  32.990002  1.311011\n",
       "942   1382.199951  38.970001  30.590000  1.311131\n",
       "840   1275.920044  37.430000  34.000000  1.376008\n",
       "1153  1563.770020  34.450001  27.750000  1.285843\n",
       "1223  1685.959961  36.669998  19.030001  1.326489\n",
       "794   1140.650024  31.719999  39.660000  1.432439\n",
       "781   1304.890015  37.970001  39.169998  1.437298\n",
       "2207  2747.709961  12.380000  16.150000  1.203746\n",
       "355   1020.619995  36.049999  14.620000  1.421202\n",
       "140   1213.599976  74.989998  10.400000  1.432932\n",
       "1306  1786.540039  34.939999  19.219999  1.373928\n",
       "1489  1862.489990  30.670000  16.709999  1.282166\n",
       "1069  1387.810059  31.950001  32.110001  1.276944"
      ]
     },
     "execution_count": 71,
     "metadata": {},
     "output_type": "execute_result"
    }
   ],
   "source": [
    "X_test.head(30)"
   ]
  },
  {
   "cell_type": "markdown",
   "id": "6fe06e2c-b9cd-461a-b461-1d754ec56182",
   "metadata": {},
   "source": [
    "### Find best model using GridSearchCV"
   ]
  },
  {
   "cell_type": "code",
   "execution_count": 44,
   "id": "6fd71eb2-821b-4445-8d60-e6d2637dfb97",
   "metadata": {},
   "outputs": [
    {
     "data": {
      "text/html": [
       "<div>\n",
       "<style scoped>\n",
       "    .dataframe tbody tr th:only-of-type {\n",
       "        vertical-align: middle;\n",
       "    }\n",
       "\n",
       "    .dataframe tbody tr th {\n",
       "        vertical-align: top;\n",
       "    }\n",
       "\n",
       "    .dataframe thead th {\n",
       "        text-align: right;\n",
       "    }\n",
       "</style>\n",
       "<table border=\"1\" class=\"dataframe\">\n",
       "  <thead>\n",
       "    <tr style=\"text-align: right;\">\n",
       "      <th></th>\n",
       "      <th>model</th>\n",
       "      <th>best_score</th>\n",
       "      <th>best_params</th>\n",
       "    </tr>\n",
       "  </thead>\n",
       "  <tbody>\n",
       "    <tr>\n",
       "      <th>0</th>\n",
       "      <td>linear_regression</td>\n",
       "      <td>0.881436</td>\n",
       "      <td>{'fit_intercept': True}</td>\n",
       "    </tr>\n",
       "    <tr>\n",
       "      <th>1</th>\n",
       "      <td>lasso</td>\n",
       "      <td>0.880209</td>\n",
       "      <td>{'alpha': 1, 'selection': 'random'}</td>\n",
       "    </tr>\n",
       "    <tr>\n",
       "      <th>2</th>\n",
       "      <td>decision_tree</td>\n",
       "      <td>0.981009</td>\n",
       "      <td>{'criterion': 'friedman_mse', 'splitter': 'best'}</td>\n",
       "    </tr>\n",
       "    <tr>\n",
       "      <th>3</th>\n",
       "      <td>random_forest</td>\n",
       "      <td>0.990623</td>\n",
       "      <td>{'n_estimators': 100}</td>\n",
       "    </tr>\n",
       "  </tbody>\n",
       "</table>\n",
       "</div>"
      ],
      "text/plain": [
       "               model  best_score  \\\n",
       "0  linear_regression    0.881436   \n",
       "1              lasso    0.880209   \n",
       "2      decision_tree    0.981009   \n",
       "3      random_forest    0.990623   \n",
       "\n",
       "                                         best_params  \n",
       "0                            {'fit_intercept': True}  \n",
       "1                {'alpha': 1, 'selection': 'random'}  \n",
       "2  {'criterion': 'friedman_mse', 'splitter': 'best'}  \n",
       "3                              {'n_estimators': 100}  "
      ]
     },
     "execution_count": 44,
     "metadata": {},
     "output_type": "execute_result"
    }
   ],
   "source": [
    "from sklearn.model_selection import ShuffleSplit\n",
    "\n",
    "def find_best_model_using_gridsearchcv(X,y):\n",
    "    algos = {\n",
    "        'linear_regression' : {\n",
    "            'model': LinearRegression(),\n",
    "            'params': {\n",
    "                'fit_intercept': [True, False]\n",
    "            }\n",
    "        },\n",
    "        'lasso': {\n",
    "            'model': Lasso(),\n",
    "            'params': {\n",
    "                'alpha': [1,2],\n",
    "                'selection': ['random', 'cyclic']\n",
    "            }\n",
    "        },\n",
    "        'decision_tree': {\n",
    "            'model': DecisionTreeRegressor(),\n",
    "            'params': {\n",
    "                'criterion' : ['mse','friedman_mse'],\n",
    "                'splitter': ['best','random']\n",
    "            }\n",
    "        },\n",
    "        'random_forest': {\n",
    "            'model': RandomForestRegressor(),\n",
    "            'params': {\n",
    "                'n_estimators' : [100]\n",
    "                \n",
    "            }\n",
    "        }\n",
    "    }\n",
    "    scores = []\n",
    "    cv = ShuffleSplit(n_splits=5, test_size=0.2, random_state=0)\n",
    "    for algo_name, config in algos.items():\n",
    "        gs =  GridSearchCV(config['model'], config['params'], cv=cv, return_train_score=False)\n",
    "        gs.fit(X,y)\n",
    "        scores.append({\n",
    "            'model': algo_name,\n",
    "            'best_score': gs.best_score_,\n",
    "            'best_params': gs.best_params_\n",
    "        })\n",
    "\n",
    "    return pd.DataFrame(scores,columns=['model','best_score','best_params'])\n",
    "\n",
    "find_best_model_using_gridsearchcv(X,y)"
   ]
  },
  {
   "cell_type": "markdown",
   "id": "b2c0514b-361c-4968-8427-a1c125316a91",
   "metadata": {},
   "source": [
    "#### Based on above results we can say that RandomForestRegressor gives the best score"
   ]
  },
  {
   "cell_type": "code",
   "execution_count": 53,
   "id": "19013d46-9742-4e3e-99a8-648146ccfb1b",
   "metadata": {},
   "outputs": [
    {
     "data": {
      "text/plain": [
       "0.989188231655233"
      ]
     },
     "execution_count": 53,
     "metadata": {},
     "output_type": "execute_result"
    }
   ],
   "source": [
    "rf = RandomForestRegressor(n_estimators=100)\n",
    "rf.fit(X_train,y_train)\n",
    "rf.score(X_test,y_test)\n"
   ]
  },
  {
   "cell_type": "markdown",
   "id": "e58e7e0c-1d37-4744-a61d-5d667846d432",
   "metadata": {},
   "source": [
    "### Export the tested model to a pickle file"
   ]
  },
  {
   "cell_type": "code",
   "execution_count": 56,
   "id": "12de04a3-e393-49c5-9ad7-cbbea3b111bb",
   "metadata": {},
   "outputs": [],
   "source": [
    "#import pickle\n",
    "with open('gld_price_model.pickle','wb') as f:\n",
    "    pickle.dump(rf,f)"
   ]
  },
  {
   "cell_type": "markdown",
   "id": "260734cb-e6b0-47b8-b881-92edfdae72af",
   "metadata": {},
   "source": [
    "### Export location and column information to a file"
   ]
  },
  {
   "cell_type": "code",
   "execution_count": 57,
   "id": "1ea925a3-62a1-4e76-8fd0-7ac878ef099b",
   "metadata": {},
   "outputs": [],
   "source": [
    "columns = {\n",
    "    'data_columns' : [col.lower() for col in X.columns]\n",
    "}\n",
    "with open(\"columns.json\",\"w\") as f:\n",
    "    f.write(json.dumps(columns))"
   ]
  },
  {
   "cell_type": "markdown",
   "id": "ca7c41be-68b3-4de2-896d-402ff4182759",
   "metadata": {},
   "source": [
    "####  Load the model"
   ]
  },
  {
   "cell_type": "code",
   "execution_count": 58,
   "id": "19f6ce53-b2e9-43df-b042-5639b7466588",
   "metadata": {},
   "outputs": [],
   "source": [
    "with open('gld_price_model.pickle','rb') as f:\n",
    "    mp=pickle.load(f)"
   ]
  },
  {
   "cell_type": "markdown",
   "id": "e4396b43-8566-404f-9718-31d642badf12",
   "metadata": {},
   "source": [
    "### Predict the model with test data"
   ]
  },
  {
   "cell_type": "code",
   "execution_count": 59,
   "id": "65baf679-f72b-488d-afde-219bf58948fc",
   "metadata": {},
   "outputs": [
    {
     "data": {
      "text/plain": [
       "array([168.44759891,  82.01269971, 116.30590022, 127.71360093,\n",
       "       120.69640143, 154.90499767, 150.61559987, 126.04480059,\n",
       "       117.35609877, 125.98280058, 116.51280095, 172.30140089,\n",
       "       141.08329899, 167.83869855, 115.18180029, 117.82880048,\n",
       "       138.08690322, 170.24810123, 159.40100288, 159.23759985,\n",
       "       155.17680034, 125.05709997, 177.40189998, 156.95350404,\n",
       "       125.14640041,  93.90479987,  76.91410032, 120.40469992,\n",
       "       119.17009953, 167.30850024,  88.049     , 125.32459984,\n",
       "        91.01520092, 117.78529983, 121.04149926, 135.84890149,\n",
       "       115.49920106, 115.29780058, 147.79680015, 107.09530104,\n",
       "       104.08750234,  87.14409805, 126.45610045, 117.8410002 ,\n",
       "       153.18549915, 119.63680012, 108.39039977, 107.93009828,\n",
       "        93.17510032, 127.05779806,  74.85690039, 113.65749937,\n",
       "       121.16640026, 111.20539952, 118.97689903, 121.04069965,\n",
       "       158.70870063, 167.10620117, 147.29649638,  85.94269859,\n",
       "        94.37640038,  86.91639852,  90.46430009, 119.06350081,\n",
       "       126.42830047, 127.46720021, 170.32810004, 122.27479941,\n",
       "       117.19409912,  98.65670049, 168.55940143, 143.52029821,\n",
       "       132.53270175, 121.22690199, 121.15929934, 119.7606006 ,\n",
       "       114.44670148, 118.33030078, 107.00840119, 127.91170129,\n",
       "       114.22099952, 107.45160004, 117.11330033, 119.71229861,\n",
       "        89.00230088,  88.24959867, 146.50430231, 127.41710011,\n",
       "       113.51270019, 110.45719823, 108.28669901,  77.47129903,\n",
       "       170.09300159, 114.00469907, 121.58739936, 127.97820173,\n",
       "       155.07189831,  91.75089928, 136.72470107, 158.48490287,\n",
       "       125.48090083, 125.40760047, 130.44890125, 114.81800081,\n",
       "       119.66230027,  92.0724001 , 110.28629875, 167.95669903,\n",
       "       157.27569887, 114.12309923, 106.64140138,  79.33549966,\n",
       "       113.18800041, 125.73380071, 107.56989921, 119.38380118,\n",
       "       156.04170319, 159.92319866, 120.26189993, 133.85220286,\n",
       "       101.58169987, 117.74929811, 119.44930037, 112.91940086,\n",
       "       102.82469959, 160.1990976 ,  99.28180049, 146.44599888,\n",
       "       125.77100086, 169.73909966, 125.74529856, 127.3398975 ,\n",
       "       127.36630177, 113.77219919, 112.99430071, 123.41019903,\n",
       "       102.12829883,  89.1156    , 124.2204997 , 101.52459966,\n",
       "       106.95269926, 113.42600067, 117.03920114,  99.26369958,\n",
       "       121.69680033, 163.16389913,  87.43249877, 106.77479981,\n",
       "       117.07120126, 127.71480177, 124.18170079,  80.78269913,\n",
       "       120.26390074, 158.2638977 ,  87.97369983, 110.17639923,\n",
       "       119.02609914, 172.45869894, 102.92569892, 105.66850064,\n",
       "       122.64660008, 158.29179728,  87.27199857,  93.1972007 ,\n",
       "       112.78010054, 178.12569982, 114.40719951, 119.42040006,\n",
       "        94.74440085, 125.68800028, 166.03080107, 114.91640043,\n",
       "       116.71030163,  88.31239878, 148.90810102, 120.45039946,\n",
       "        89.56189969, 111.96900021, 117.23970031, 118.76970118,\n",
       "        88.14269927,  94.29360007, 117.02030024, 118.72320179,\n",
       "       120.12020085, 126.99859815, 121.72749965, 149.58599986,\n",
       "       165.93530058, 118.73059976, 120.32760158, 151.02760056,\n",
       "       118.36319894, 172.6647994 , 105.88849939, 105.0182012 ,\n",
       "       149.17330106, 113.84090052, 124.75530133, 147.74420047,\n",
       "       119.59140116, 115.36040041, 112.48230018, 113.36260235,\n",
       "       141.83420157, 117.70369777, 102.86820032, 115.87310138,\n",
       "       103.4194017 ,  98.94340044, 117.50930069,  90.56650025,\n",
       "        91.42990032, 153.74929912, 102.73879969, 155.05330086,\n",
       "       114.37010179, 138.90490164,  90.08919802, 115.48799951,\n",
       "       114.61179929, 122.75220063, 121.45070007, 165.33180217,\n",
       "        92.82369976, 135.31610123, 121.36959924, 120.90650051,\n",
       "       104.55120009, 142.51860221, 121.71549938, 116.65600045,\n",
       "       113.4571008 , 127.17509753, 123.00329926, 125.78219929,\n",
       "       121.24990028,  86.93369888, 132.48360167, 145.49800152,\n",
       "        92.77849931, 157.79309992, 158.6974024 , 126.4492984 ,\n",
       "       165.39349942, 108.73839947, 109.6677011 , 103.5609981 ,\n",
       "        94.160301  , 127.78970277, 106.9588009 , 160.57449977,\n",
       "       121.71930022, 132.08710019, 130.47560123, 160.44420068,\n",
       "        90.17829836, 176.45640241, 127.86130055, 126.85539864,\n",
       "        86.37259907, 124.42669931, 150.29869729,  89.70480001,\n",
       "       106.99199975, 109.0482999 ,  84.51409878, 135.99279962,\n",
       "       154.71950284, 139.60230341,  74.23280026, 152.48240143,\n",
       "       126.20689972, 126.76730008, 127.52039914, 108.55409957,\n",
       "       156.35530022, 114.44320077, 116.84300131, 125.2539991 ,\n",
       "       154.01170145, 121.47909991, 156.29619951,  92.96740074,\n",
       "       125.60830144, 125.36920041,  87.96030062,  91.86419935,\n",
       "       126.1693994 , 128.36960381, 113.15870015, 117.75229754,\n",
       "       120.92170018, 127.09489806, 119.73350106, 135.99290135,\n",
       "        93.94909936, 119.82430024, 113.09040091,  94.15349932,\n",
       "       108.96769957,  87.76299935, 109.04209918,  89.83439969,\n",
       "        92.37770039, 131.48760317, 162.49580085,  89.33690015,\n",
       "       119.73690084, 133.42080151, 123.87400021, 128.35850217,\n",
       "       101.93059847,  88.89729872, 131.63200061, 120.14550016,\n",
       "       108.72399992, 169.1865012 , 115.11590039,  86.62629922,\n",
       "       119.03490082,  90.88989984, 161.91790109, 116.58640041,\n",
       "       121.56060029, 160.08799742, 120.1964993 , 112.87049956,\n",
       "       108.49689856, 126.51700019,  76.16980024, 102.96869994,\n",
       "       127.61660252, 121.77579946,  92.5872    , 132.46700069,\n",
       "       117.91640141, 115.87549951, 154.63600243, 158.32930038,\n",
       "       110.2206994 , 156.13779903, 119.17540081, 160.64000095,\n",
       "       118.38130004, 157.98029946, 115.23179945, 116.51820023,\n",
       "       148.10029969, 114.83240058, 125.45829887, 165.99119904,\n",
       "       117.8408002 , 125.01289907, 153.51280342, 153.48460231,\n",
       "       132.07940058, 114.87700004, 121.2224019 , 124.72240039,\n",
       "        89.70050074, 122.90739982, 154.64420109, 111.6575003 ,\n",
       "       106.75249999, 161.74140156, 118.71729977, 165.56279982,\n",
       "       134.13160112, 114.75609937, 152.93819851, 168.64230042,\n",
       "       115.44760018, 114.10130151, 158.68729936,  85.06349893,\n",
       "       127.0294008 , 127.97040067, 128.87459991, 124.45300058,\n",
       "       123.91700069,  90.68160105, 153.46499998,  97.12239985,\n",
       "       138.07580005,  89.05589899, 107.42689994, 115.01920056,\n",
       "       112.94140085, 124.06059929,  91.33999866, 125.33420122,\n",
       "       162.37709879, 119.95069907, 165.09850141, 126.93259799,\n",
       "       112.34720012, 127.63919937,  94.87429918,  90.8754999 ,\n",
       "       103.29649929, 120.89510026,  83.19899967, 126.4873004 ,\n",
       "       160.46790442, 117.32620093, 118.36909961, 119.86299979,\n",
       "       122.63629965, 120.00630152, 121.34840045, 118.15080057,\n",
       "       106.94840025, 148.43329947, 126.37179824, 115.63110058,\n",
       "        74.08529999, 127.82080076, 153.6310009 , 122.30419991,\n",
       "       125.62430068,  88.81590031, 103.56319887, 124.91600055,\n",
       "       120.34080042,  73.32160091, 151.37460005, 121.13370036,\n",
       "       104.60530017,  85.94919771, 115.23379929, 172.21899862,\n",
       "       119.88940058, 160.08019789, 113.19879955, 121.37849999,\n",
       "       118.44530154,  95.8879999 , 118.61070071, 126.09590041,\n",
       "       118.53739927,  95.80890033, 154.14820197, 122.05649998,\n",
       "       147.59549997, 158.71220219, 113.4519002 , 122.46329929,\n",
       "       150.34309765, 127.18100037, 165.95100008, 135.45950073,\n",
       "       119.68779968, 167.41099817, 108.22879935, 121.67839851,\n",
       "       138.79250125, 107.28279898])"
      ]
     },
     "execution_count": 59,
     "metadata": {},
     "output_type": "execute_result"
    }
   ],
   "source": [
    "mp.predict(X_test)"
   ]
  },
  {
   "cell_type": "code",
   "execution_count": 62,
   "id": "5655900b-b335-49b6-816a-ed504a893d3f",
   "metadata": {},
   "outputs": [
    {
     "data": {
      "text/plain": [
       "array([168.44759891])"
      ]
     },
     "execution_count": 62,
     "metadata": {},
     "output_type": "execute_result"
    }
   ],
   "source": [
    "mp.predict([[1351.949951,38.330002,32.900002,1.324854]]) #903 th item"
   ]
  },
  {
   "cell_type": "code",
   "execution_count": 61,
   "id": "4586dfd1-ba72-4da6-96cc-e5adf6abfd94",
   "metadata": {},
   "outputs": [
    {
     "data": {
      "text/plain": [
       "Date          2/9/2012\n",
       "SPX        1351.949951\n",
       "GLD         168.020004\n",
       "USO          38.330002\n",
       "SLV          32.900002\n",
       "EUR/USD       1.324854\n",
       "Name: 903, dtype: object"
      ]
     },
     "execution_count": 61,
     "metadata": {},
     "output_type": "execute_result"
    }
   ],
   "source": [
    "df.iloc[903,:]"
   ]
  },
  {
   "cell_type": "code",
   "execution_count": 72,
   "id": "8ecd677b-6dc9-4240-abe2-e0094441b893",
   "metadata": {},
   "outputs": [
    {
     "data": {
      "text/plain": [
       "array([76.91410032])"
      ]
     },
     "execution_count": 72,
     "metadata": {},
     "output_type": "execute_result"
    }
   ],
   "source": [
    "mp.predict([[1213.599976,74.989998,10.400000,1.432932]]) #140 th item"
   ]
  },
  {
   "cell_type": "code",
   "execution_count": 73,
   "id": "82125c69-b431-402e-b549-6e6105623756",
   "metadata": {},
   "outputs": [
    {
     "data": {
      "text/plain": [
       "Date         9/16/2008\n",
       "SPX        1213.599976\n",
       "GLD          76.790001\n",
       "USO          74.989998\n",
       "SLV               10.4\n",
       "EUR/USD       1.432932\n",
       "Name: 140, dtype: object"
      ]
     },
     "execution_count": 73,
     "metadata": {},
     "output_type": "execute_result"
    }
   ],
   "source": [
    "df.iloc[140,:]"
   ]
  },
  {
   "cell_type": "code",
   "execution_count": null,
   "id": "c38f3cda-5279-469b-876b-1a4c7ae48a85",
   "metadata": {},
   "outputs": [],
   "source": []
  }
 ],
 "metadata": {
  "kernelspec": {
   "display_name": "Python 3 (ipykernel)",
   "language": "python",
   "name": "python3"
  },
  "language_info": {
   "codemirror_mode": {
    "name": "ipython",
    "version": 3
   },
   "file_extension": ".py",
   "mimetype": "text/x-python",
   "name": "python",
   "nbconvert_exporter": "python",
   "pygments_lexer": "ipython3",
   "version": "3.12.1"
  }
 },
 "nbformat": 4,
 "nbformat_minor": 5
}
